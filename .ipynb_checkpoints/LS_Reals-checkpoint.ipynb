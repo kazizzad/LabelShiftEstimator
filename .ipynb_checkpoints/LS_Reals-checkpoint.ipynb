{
 "cells": [
  {
   "cell_type": "code",
   "execution_count": 1,
   "id": "outside-generator",
   "metadata": {},
   "outputs": [],
   "source": [
    "from __future__ import print_function\n",
    "import argparse\n",
    "import torch\n",
    "import torch.nn as nn\n",
    "import torch.nn.functional as F\n",
    "import torch.optim as optim\n",
    "import torch.utils.data as data\n",
    "from torchvision import datasets, transforms\n",
    "import numpy as np\n",
    "import torchvision\n",
    "from resnet import *\n",
    "import cvxpy as cp\n",
    "from sklearn.metrics import precision_recall_fscore_support\n",
    "from sklearn.neural_network import MLPClassifier, MLPRegressor\n",
    "import os\n",
    "import copy\n",
    "from scipy import stats\n",
    "from scipy.spatial.distance import cdist\n",
    "import matplotlib\n",
    "import matplotlib.pyplot as plt\n",
    "from sklearn.gaussian_process import GaussianProcessRegressor\n",
    "from sklearn.gaussian_process.kernels import RBF, WhiteKernel,Matern,DotProduct ,PairwiseKernel\n",
    "import seaborn as sns\n"
   ]
  },
  {
   "cell_type": "code",
   "execution_count": 2,
   "id": "selected-touch",
   "metadata": {},
   "outputs": [],
   "source": [
    "K_rbf = RBF(length_scale=.9, length_scale_bounds=(1e-2, 1e3))\n",
    "k_dot = DotProduct(sigma_0=1.0, sigma_0_bounds=1e-05)\n",
    "\n",
    "K_matern = Matern(length_scale=40.1, length_scale_bounds=1e-05, nu=6.5)\n",
    "\n",
    "kernel = 1.0 * K_rbf \\\n",
    "    + WhiteKernel(noise_level=0.01, noise_level_bounds=(1e-10, 1e+1))\n",
    "\n",
    "K_RBF = K_rbf\n",
    "\n",
    "\n",
    "def regressor(n,m,DpX, DpY):\n",
    "    gp = GaussianProcessRegressor(kernel=kernel,alpha=0.0).fit(DpX[:, np.newaxis], DpY)\n",
    "    loss_P = np.linalg.norm(gp.predict(DpX[:, np.newaxis])-DpY)\n",
    "    loss_Q = np.linalg.norm(gp.predict(DqX[:, np.newaxis])-DqY)\n",
    "    print('gp loss:',loss_P,loss_Q)\n",
    "    return gp"
   ]
  },
  {
   "cell_type": "code",
   "execution_count": 3,
   "id": "interstate-appraisal",
   "metadata": {},
   "outputs": [],
   "source": [
    "def invcdf(x,a):\n",
    "    return (-(1-a)+np.sqrt((1-a)**2+4*a*x))/(2*a)\n",
    "\n",
    "def weight(x,a,b):\n",
    "    return (2*a*x+1-a)/(2*b*x+1-b)\n",
    "\n",
    "def sampling(n,m,a,b,sigma):\n",
    "    DpY = np.array([invcdf(np.random.uniform(),a) for x in range(n)])\n",
    "    DqY = np.array([invcdf(np.random.uniform(),b) for x in range(m)])\n",
    "    DpX = np.random.normal(0,sigma,n)+DpY\n",
    "    DqX = np.random.normal(0,sigma,m)+DqY\n",
    "    return DpX, DpY, DqX, DqY\n"
   ]
  },
  {
   "cell_type": "code",
   "execution_count": 149,
   "id": "champion-fitting",
   "metadata": {},
   "outputs": [],
   "source": [
    "def w_comp(n,m,a,b,DpX,DqX,gp,DpY,DqY):\n",
    "    rho = 1e-6\n",
    "    pred_p = gp.predict(DpX[:, np.newaxis])\n",
    "    pred_q = gp.predict(DqX[:, np.newaxis])\n",
    "    Kp_u = K_RBF.__call__(pred_p[:, np.newaxis],pred_p[:, np.newaxis])/(n*n)\n",
    "    u, s, vh = np.linalg.svd(Kp_u, full_matrices=True)\n",
    "#     print('svd:',s)\n",
    "    Kpp = K_RBF.__call__(DpY[:, np.newaxis],DpY[:, np.newaxis])\n",
    "    Kpq_u = K_RBF.__call__(pred_p[:, np.newaxis],pred_p[:, np.newaxis])/(n*n)\n",
    "    +K_RBF.__call__(pred_q[:, np.newaxis],pred_q[:, np.newaxis])/(m*m)\n",
    "    - K_RBF.__call__(pred_p[:, np.newaxis],pred_q[:, np.newaxis])/(n*m)\n",
    "    - K_RBF.__call__(pred_q[:, np.newaxis],pred_p[:, np.newaxis])/(n*m)\n",
    "    Kqp_u = K_RBF.__call__(pred_q[:, np.newaxis],pred_p[:, np.newaxis])/(n*m)\n",
    "    Kpp_u = K_RBF.__call__(pred_p[:, np.newaxis],pred_p[:, np.newaxis])/(n*n)\n",
    "\n",
    "    rank = 100\n",
    "    u, s, vh = np.linalg.svd(np.matmul(np.matmul(Kpp.T,Kp_u),Kpp) +rho * Kpp, full_matrices=True)\n",
    "    rhs = (np.sum(np.matmul(Kqp_u,Kpp),axis=0) - np.sum(np.matmul(Kpp_u , Kpp),axis=0))\n",
    "    aa = np.matmul(np.matmul(np.matmul(u[:,0:rank], np.diag(s[0:rank]**(-1))), vh[0:rank,:]),rhs)\n",
    "    \n",
    "    \n",
    "    x = np.linspace(.0, 1.0, num=100)\n",
    "    iw = np.array([(2*b*y/100+1-b)/(2*a*y/100+1-a) for y in range(100)])\n",
    "    loss = np.sqrt(np.sum((np.matmul(aa,K_RBF.__call__(DpY[:, np.newaxis],x[:, np.newaxis]))+1-iw)**2)/100)\n",
    "    \n",
    "    return aa, loss \n",
    "\n",
    "\n",
    "\n",
    "def eval_alpha(x,alpha,DpY):\n",
    "    return alpha.T*K_RBF.__call__(DpY[:, np.newaxis],x[:, np.newaxis])"
   ]
  },
  {
   "cell_type": "code",
   "execution_count": null,
   "id": "ancient-jacksonville",
   "metadata": {},
   "outputs": [],
   "source": [
    "m_max = 10000\n",
    "max_ite = 10\n",
    "max_epoch = 10\n",
    "stor_alpha = np.zeros((max_epoch,max_ite,m_max))\n",
    "stor_y = np.zeros((max_epoch,max_ite,m_max))\n",
    "stor_loss = np.zeros((max_epoch,max_ite))\n",
    "\n",
    "nc_vec = np.zeros((max_epoch))\n",
    "for epoch in range(max_epoch):\n",
    "    print('epoch: ',epoch)\n",
    "    for ite in range(max_ite):\n",
    "        n = 1000 * (epoch+1)\n",
    "        nc_vec[epoch] = n\n",
    "        m = 1000 * (epoch+1)\n",
    "        #samples\n",
    "        sigma = 0.01\n",
    "        a = .5\n",
    "        b = -.5\n",
    "        DpX, DpY, DqX, DqY=sampling(n,m,a,b,sigma)\n",
    "        gp = regressor(n,m, DpX, DpY)\n",
    "\n",
    "        alpha, loss = w_comp(n,m,a,b,DpX,DqX,gp,DpY,DqY)\n",
    "        stor_alpha[epoch,ite,0:m] = alpha\n",
    "        stor_y[epoch,ite,0:n] = DpY\n",
    "        stor_loss[epoch,ite] = loss\n",
    "        print(loss)\n"
   ]
  },
  {
   "cell_type": "code",
   "execution_count": 190,
   "id": "administrative-overall",
   "metadata": {},
   "outputs": [],
   "source": [
    "iw = np.array([(2*b*y/100+1-b)/(2*a*y/100+1-a) for y in range(100)])\n",
    "nn = np.sqrt(np.sum(iw**2)/100)"
   ]
  },
  {
   "cell_type": "code",
   "execution_count": 200,
   "id": "viral-opinion",
   "metadata": {},
   "outputs": [
    {
     "data": {
      "image/png": "[encoded data removed]",
      "text/plain": [
       "<Figure size 432x288 with 1 Axes>"
      ]
     },
     "metadata": {},
     "output_type": "display_data"
    }
   ],
   "source": [
    "\n",
    "y_mean = np.mean(stor_loss/nn,axis = 1)\n",
    "\n",
    "y_std = np.std(stor_loss/nn,axis = 1)\n",
    "\n",
    "\n",
    "\n",
    "sns.set_theme()\n",
    "\n",
    "fig, ax = plt.subplots()\n",
    "\n",
    "\n",
    "ax.plot(nc_vec.astype(int),y_mean)\n",
    "ax.set_xticks(nc_vec)\n",
    "ax.fill_between(nc_vec.astype(int), (y_mean-y_std/2), (y_mean+y_std/2), color='b', alpha=.4)\n",
    "\n",
    "ax.set_xlabel('Number of Samples')\n",
    "ax.set_ylabel('Relative Error')\n",
    "\n",
    "sns.set_style(style='whitegrid')\n",
    "sns.set_style('ticks')\n",
    "\n"
   ]
  },
  {
   "cell_type": "code",
   "execution_count": null,
   "id": "tropical-french",
   "metadata": {},
   "outputs": [],
   "source": []
  }
 ],
 "metadata": {
  "kernelspec": {
   "display_name": "Python 3",
   "language": "python",
   "name": "python3"
  },
  "language_info": {
   "codemirror_mode": {
    "name": "ipython",
    "version": 3
   },
   "file_extension": ".py",
   "mimetype": "text/x-python",
   "name": "python",
   "nbconvert_exporter": "python",
   "pygments_lexer": "ipython3",
   "version": "3.8.6"
  }
 },
 "nbformat": 4,
 "nbformat_minor": 5
}
